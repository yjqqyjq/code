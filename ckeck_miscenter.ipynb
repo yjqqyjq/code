{
 "cells": [
  {
   "cell_type": "code",
   "execution_count": 2,
   "id": "8de00538",
   "metadata": {},
   "outputs": [
    {
     "name": "stdout",
     "output_type": "stream",
     "text": [
      "995\n"
     ]
    }
   ],
   "source": [
    "import h5py\n",
    "import numpy as np\n",
    "import unyt\n",
    "import swiftsimio as sw\n",
    "from swiftsimio import load\n",
    "import swiftgalaxy as sg\n",
    "import functions as fn\n",
    "from matplotlib import colors\n",
    "import matplotlib.pyplot as plt\n",
    "path=\"/Users/24756376/data/Flamingo/L1000N0900/\"\n",
    "f=h5py.File(path+'compare_most_massive_sat_3000kpc.hdf5','r')\n",
    "s=f[\"PartType0\"]\n",
    "mostmassiveid3000=np.array(s[\"Brightid\"])\n",
    "cebtralid=np.array(s[\"centralid\"])\n",
    "R3000=np.array(s[\"Rmass\"])\n",
    "f.close()\n",
    "f=h5py.File(path+'compare_most_massive_sat.hdf5','r')\n",
    "s=f[\"PartType0\"]\n",
    "mostmassiveid=np.array(s[\"Brightid\"])\n",
    "\n",
    "R=np.array(s[\"Rmass\"])\n",
    "f.close()\n",
    "f=h5py.File(path+'halos.hdf5','r')\n",
    "\n",
    "halo_id=np.array(f[\"halos\"][\"id\"])\n",
    "\n",
    "r200=np.array(f[\"halos\"][\"r200\"])\n",
    "host_id=np.array(f[\"halos\"][\"hostid\"])\n",
    "mass=np.array(f[\"halos\"][\"mass\"])\n",
    "m200=np.array(f[\"halos\"][\"m200\"])\n",
    "mbp=np.array(f[\"halos\"][\"center\"])\n",
    "com_star=np.array(f[\"halos\"][\"com_star_100kpc\"])\n",
    "#star_lumz=np.array(f[\"halos\"][\"lumz_3000kpc\"])\n",
    "ms=np.array(f[\"halos\"][\"mass_star_100kpc\"])\n",
    "f.close()\n",
    "ids=np.arange(0,len(halo_id),1)\n",
    "mainhalo_id=ids[host_id==-1][R>1]\n",
    "print(len(mainhalo_id))\n"
   ]
  },
  {
   "cell_type": "code",
   "execution_count": null,
   "id": "eda8542a",
   "metadata": {},
   "outputs": [
    {
     "name": "stdout",
     "output_type": "stream",
     "text": [
      "1.0488281 [  7.76451043   6.88795043 364.19551043]\n",
      "[]\n"
     ]
    },
    {
     "name": "stderr",
     "output_type": "stream",
     "text": [
      "/opt/anaconda3/envs/myenv/lib/python3.12/site-packages/swiftsimio/_array_functions.py:438: RuntimeWarning: Mixing arguments with and without cosmo_factors, continuing assuming provided cosmo_factor (a at a=1.0) for all arguments.\n",
      "  warnings.warn(\n",
      "/opt/anaconda3/envs/myenv/lib/python3.12/site-packages/swiftgalaxy/reader.py:2077: RuntimeWarning: Translation assumed to be in comoving (not physical) coordinates.\n",
      "  warn(\n",
      "/opt/anaconda3/envs/myenv/lib/python3.12/site-packages/swiftsimio/_array_functions.py:665: RuntimeWarning: Mixing arguments with and without cosmo_factors, continuing assuming provided cosmo_factor ((a**2.0)**0.5 at a=1.0) for all arguments.\n",
      "  warnings.warn(\n"
     ]
    },
    {
     "ename": "ValueError",
     "evalue": "zero-size array to reduction operation minimum which has no identity",
     "output_type": "error",
     "traceback": [
      "\u001b[31m---------------------------------------------------------------------------\u001b[39m",
      "\u001b[31mValueError\u001b[39m                                Traceback (most recent call last)",
      "\u001b[36mCell\u001b[39m\u001b[36m \u001b[39m\u001b[32mIn[24]\u001b[39m\u001b[32m, line 28\u001b[39m\n\u001b[32m     26\u001b[39m p=np.array(sgi.dark_matter.potentials)\n\u001b[32m     27\u001b[39m \u001b[38;5;28mprint\u001b[39m(xdm)\n\u001b[32m---> \u001b[39m\u001b[32m28\u001b[39m minp=PartType2[p==np.min(p)][\u001b[32m0\u001b[39m]\n\u001b[32m     29\u001b[39m \u001b[38;5;28;01mif\u001b[39;00m fn.radial_distance(minp[\u001b[32m0\u001b[39m],minp[\u001b[32m1\u001b[39m],minp[\u001b[32m2\u001b[39m])>\u001b[32m0.02\u001b[39m:\n\u001b[32m     30\u001b[39m   Miscenter[i]=fn.radial_distance(minp[\u001b[32m0\u001b[39m],minp[\u001b[32m1\u001b[39m],minp[\u001b[32m2\u001b[39m])\n",
      "\u001b[36mFile \u001b[39m\u001b[32m/opt/anaconda3/envs/myenv/lib/python3.12/site-packages/numpy/_core/fromnumeric.py:3302\u001b[39m, in \u001b[36mmin\u001b[39m\u001b[34m(a, axis, out, keepdims, initial, where)\u001b[39m\n\u001b[32m   3190\u001b[39m \u001b[38;5;129m@array_function_dispatch\u001b[39m(_min_dispatcher)\n\u001b[32m   3191\u001b[39m \u001b[38;5;28;01mdef\u001b[39;00m\u001b[38;5;250m \u001b[39m\u001b[34mmin\u001b[39m(a, axis=\u001b[38;5;28;01mNone\u001b[39;00m, out=\u001b[38;5;28;01mNone\u001b[39;00m, keepdims=np._NoValue, initial=np._NoValue,\n\u001b[32m   3192\u001b[39m         where=np._NoValue):\n\u001b[32m   3193\u001b[39m \u001b[38;5;250m    \u001b[39m\u001b[33;03m\"\"\"\u001b[39;00m\n\u001b[32m   3194\u001b[39m \u001b[33;03m    Return the minimum of an array or minimum along an axis.\u001b[39;00m\n\u001b[32m   3195\u001b[39m \n\u001b[32m   (...)\u001b[39m\u001b[32m   3300\u001b[39m \u001b[33;03m    6\u001b[39;00m\n\u001b[32m   3301\u001b[39m \u001b[33;03m    \"\"\"\u001b[39;00m\n\u001b[32m-> \u001b[39m\u001b[32m3302\u001b[39m     \u001b[38;5;28;01mreturn\u001b[39;00m _wrapreduction(a, np.minimum, \u001b[33m'\u001b[39m\u001b[33mmin\u001b[39m\u001b[33m'\u001b[39m, axis, \u001b[38;5;28;01mNone\u001b[39;00m, out,\n\u001b[32m   3303\u001b[39m                           keepdims=keepdims, initial=initial, where=where)\n",
      "\u001b[36mFile \u001b[39m\u001b[32m/opt/anaconda3/envs/myenv/lib/python3.12/site-packages/numpy/_core/fromnumeric.py:86\u001b[39m, in \u001b[36m_wrapreduction\u001b[39m\u001b[34m(obj, ufunc, method, axis, dtype, out, **kwargs)\u001b[39m\n\u001b[32m     83\u001b[39m         \u001b[38;5;28;01melse\u001b[39;00m:\n\u001b[32m     84\u001b[39m             \u001b[38;5;28;01mreturn\u001b[39;00m reduction(axis=axis, out=out, **passkwargs)\n\u001b[32m---> \u001b[39m\u001b[32m86\u001b[39m \u001b[38;5;28;01mreturn\u001b[39;00m ufunc.reduce(obj, axis, dtype, out, **passkwargs)\n",
      "\u001b[31mValueError\u001b[39m: zero-size array to reduction operation minimum which has no identity"
     ]
    }
   ],
   "source": [
    "\n",
    "\n",
    "Miscenter=np.zeros(len(mainhalo_id))\n",
    "i=0\n",
    "for id in mainhalo_id:\n",
    "  \n",
    "\n",
    "  centre=mbp[id]\n",
    "  \n",
    "  r=r200[id]\n",
    "  print(r,centre)\n",
    "  sgi=sg.SWIFTGalaxy(\"/Users/24756376/data/Flamingo/L1000N0900/flamingo_0077.hdf5\",\n",
    "                   sg.Standalone(centre=centre*unyt.Mpc,velocity_centre=np.array([0,0,0])*\n",
    "                                 unyt.km/unyt.s,spatial_offsets=[[-3,3],[-3,3],[-3,3]]*unyt.Mpc,extra_mask=None))\n",
    "#  print(len(sgi.stars.spherical_coordinates.r))\n",
    "  mask=sg.MaskCollection(dark_matter=(sgi.dark_matter.spherical_coordinates.r<3),\n",
    "  #                    \n",
    "                       \n",
    "                       stars=sgi.stars.spherical_coordinates.r<3)\n",
    "  print()\n",
    "#  sgi.mask_particles(mask)\n",
    "  xdm=np.array(sgi.dark_matter.cartesian_coordinates.x)\n",
    "  ydm=np.array(sgi.dark_matter.cartesian_coordinates.y)\n",
    "  zdm=np.array(sgi.dark_matter.cartesian_coordinates.z)\n",
    "  fofdm=sgi.dark_matter.fofgroup_ids\n",
    "  PartType2=np.array([xdm,ydm,zdm]).T\n",
    "  \n",
    "  p=np.array(sgi.dark_matter.potentials)\n",
    "  print(xdm)\n",
    "  minp=PartType2[p==np.min(p)][0]\n",
    "  if fn.radial_distance(minp[0],minp[1],minp[2])>0.02:\n",
    "    Miscenter[i]=fn.radial_distance(minp[0],minp[1],minp[2])\n",
    "  i=i+1\n",
    "print(\"Miscenter\",Miscenter[Miscenter!=0])\n",
    "print(len(Miscenter[Miscenter!=0]))\n"
   ]
  },
  {
   "cell_type": "code",
   "execution_count": 14,
   "id": "de0b7cfd",
   "metadata": {},
   "outputs": [
    {
     "data": {
      "image/png": "[encoded data removed]",
      "text/plain": [
       "<Figure size 640x480 with 1 Axes>"
      ]
     },
     "metadata": {},
     "output_type": "display_data"
    }
   ],
   "source": [
    "f=h5py.File(path+'Miscenter2.hdf5','r')\n",
    "Mis=np.array(f[\"Miscenter\"])\n",
    "r200=np.array(f[\"r200\"])\n",
    "f.close()\n",
    "plt.figure()\n",
    "ax=plt.subplot(111)\n",
    "ax.hist(Mis[Mis!=0]/r200[Mis!=0],alpha=0.5,\n",
    "         label=\"miscenter>0.02Mpc(N~200)\",color='blue',bins=20)\n",
    "ax.hist(Mis[Mis==0],bins=[0,0.1],alpha=0.5,\n",
    "         label=\"miscenter<0.02Mpc(N~600)\",color='red')\n",
    "ax.legend()\n",
    "ax.set_xlabel(\"Miscenter/r200\")\n",
    "ax.set_ylabel(\"N\")\n",
    "ax.set_yscale(\"log\")\n",
    "plt.savefig(\"/Users/24756376/plot/Flamingo/L1000N0900/Miscenter2.png\")"
   ]
  }
 ],
 "metadata": {
  "kernelspec": {
   "display_name": "myenv",
   "language": "python",
   "name": "python3"
  },
  "language_info": {
   "codemirror_mode": {
    "name": "ipython",
    "version": 3
   },
   "file_extension": ".py",
   "mimetype": "text/x-python",
   "name": "python",
   "nbconvert_exporter": "python",
   "pygments_lexer": "ipython3",
   "version": "3.12.10"
  }
 },
 "nbformat": 4,
 "nbformat_minor": 5
}
