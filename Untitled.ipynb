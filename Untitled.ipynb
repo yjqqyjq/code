{
 "cells": [
  {
   "cell_type": "code",
   "execution_count": 1,
   "metadata": {},
   "outputs": [
    {
     "name": "stdout",
     "output_type": "stream",
     "text": [
      "1.0000000000000009 0.32403703492039304\n"
     ]
    }
   ],
   "source": [
    "import numpy as np\n",
    "e=1.1\n",
    "rp=0.1\n",
    "b=1\n",
    "E=(e-1)/rp\n",
    "L=np.sqrt(rp*(1+e)/2)\n",
    "print(E,L)"
   ]
  }
 ],
 "metadata": {
  "kernelspec": {
   "display_name": "mypython",
   "language": "python",
   "name": "python3"
  },
  "language_info": {
   "codemirror_mode": {
    "name": "ipython",
    "version": 3
   },
   "file_extension": ".py",
   "mimetype": "text/x-python",
   "name": "python",
   "nbconvert_exporter": "python",
   "pygments_lexer": "ipython3",
   "version": "3.12.9"
  }
 },
 "nbformat": 4,
 "nbformat_minor": 2
}
