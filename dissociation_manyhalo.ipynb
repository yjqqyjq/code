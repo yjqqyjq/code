{
 "cells": [
  {
   "cell_type": "code",
   "execution_count": 1,
   "metadata": {},
   "outputs": [
    {
     "name": "stderr",
     "output_type": "stream",
     "text": [
      "/home/jyang/anaconda3/envs/mypython/lib/python3.12/site-packages/swiftsimio/objects.py:273: RuntimeWarning: Mixing ufunc arguments with and without cosmo_factors, continuing assuming provided cosmo_factor (a**0.0 at a=0.9999999999999997) for all arguments.\n",
      "  warnings.warn(\n",
      "/home/jyang/anaconda3/envs/mypython/lib/python3.12/site-packages/swiftsimio/objects.py:273: RuntimeWarning: Mixing ufunc arguments with and without cosmo_factors, continuing assuming provided cosmo_factor (1 at a=0.9999999999999997) for all arguments.\n",
      "  warnings.warn(\n"
     ]
    }
   ],
   "source": [
    "import numpy as np\n",
    "import unyt\n",
    "import swiftsimio as sw\n",
    "from swiftsimio import load\n",
    "import swiftgalaxy as sg\n",
    "\n",
    "def radial_distance(x, y,z):\n",
    "    return np.sqrt(x**2 + y**2+z**2)\n",
    "\n",
    "def spherical_harmonic_0(x, y,z):\n",
    "    r = radial_distance(x, y,z)\n",
    "    return np.sqrt(5/16/np.pi)*(3*z**2-r**2)/r**2\n",
    "def spherical_harmonic_1(x, y,z):\n",
    "    r = radial_distance(x, y,z)  \n",
    "    return np.sqrt(15/4/np.pi)*x*z/r**2\n",
    "def spherical_harmonic_2(x, y,z): \n",
    "    r = radial_distance(x, y,z)\n",
    "    return np.sqrt(15/16/np.pi)*(x**2-y**2)/r**2\n",
    "def spherical_harmonic__1(x, y,z):\n",
    "    r = radial_distance(x, y,z)\n",
    "    return np.sqrt(15/4/np.pi)*y*z/r**2 \n",
    "def spherical_harmonic__2(x, y,z):\n",
    "    r = radial_distance(x, y,z)\n",
    "    return np.sqrt(15/4/np.pi)*x*y/r**2 \n",
    "def quadrupole(x, y,z,num_particles):\n",
    "    r = radial_distance(x, y,z)\n",
    "    f0=np.sum(spherical_harmonic_0(x, y,z)*r)\n",
    "    f1=np.sum(spherical_harmonic_1(x, y,z)*r)\n",
    "    f2=np.sum(spherical_harmonic_2(x, y,z)*r)\n",
    "    f_1=np.sum(spherical_harmonic__1(x, y,z)*r)\n",
    "    f_2=np.sum(spherical_harmonic__2(x, y,z)*r)\n",
    "    return np.sqrt(f0**2+f1**2+f2**2+f_1**2+f_2**2) / num_particles\n",
    "   \n",
    "def dissociation(x_dm, y_dm,z_dm ,x_g, y_g, z_g):\n",
    "    n_dm = len(x_dm)\n",
    "    n_g = len(x_g)\n",
    "    r_mean_dm = np.average(radial_distance(x_dm, y_dm,z_dm))\n",
    "    r_mean_g = np.average(radial_distance(x_g, y_g,z_g))\n",
    "    r_max = max(r_mean_dm, r_mean_g)\n",
    "    q_dm = quadrupole(x_dm, y_dm,z_dm, n_dm)\n",
    "    q_g = quadrupole(x_g, y_g, z_g,n_g)\n",
    "    return np.sqrt(4*np.pi/5) * (q_dm - q_g) / r_max\n",
    "\n",
    "\n",
    "#work with SOAP\n",
    "#load the data\n",
    "soap_dir=\"../../../mnt/su3-pro/colibre/L0012N0094/THERMAL_AGN/SOAP/\"\n",
    "\n",
    "data_h=sw.load(soap_dir+\"/halo_properties_0127.hdf5\")\n",
    "\n",
    "\n",
    "\n",
    "\n",
    "#select the main halo\n",
    "host_id=data_h.soap.host_halo_index#central halo=-1\\\n",
    "halo_id=np.arange(0,len(host_id),1)\n",
    "mass=data_h.spherical_overdensity_200_crit.total_mass\n",
    "mainhalo_id=halo_id[(host_id==-1)*(mass>10)]\n",
    "data_h=[]\n",
    "\n",
    "x_dm=[[]]\n",
    "y_dm=[[]]\n",
    "z_dm=[[]]\n",
    "x_g=[[]]\n",
    "y_g=[[]]\n",
    "z_g=[[]]\n",
    "for i in range(0, len(mainhalo_id)-1):\n",
    "  \n",
    "    x_dm.append([])\n",
    "    x_g.append([])\n",
    "    z_dm.append([])\n",
    "    y_dm.append([])\n",
    "    y_g.append([])\n",
    "    z_g.append([])"
   ]
  },
  {
   "cell_type": "code",
   "execution_count": 15,
   "metadata": {},
   "outputs": [],
   "source": [
    "sga=sg.SWIFTGalaxies(soap_dir+\"colibre_with_SOAP_membership_0127.hdf5\",\n",
    "    sg.SOAP(soap_dir+\"/halo_properties_0127.hdf5\",soap_index=mainhalo_id),\n",
    "    preload={\"dark_matter.cartesian_coordinates\",\"gas.cartesian_coordinates\"})\n"
   ]
  },
  {
   "cell_type": "code",
   "execution_count": 16,
   "metadata": {},
   "outputs": [],
   "source": [
    "i=0\n",
    "def analyse(sgi,i):\n",
    "      x_dm[i]=np.array(sgi.dark_matter.cartesian_coordinates.x)\n",
    "      y_dm[i]=np.array(sgi.dark_matter.cartesian_coordinates.y)\n",
    "      z_dm[i]=np.array(sgi.dark_matter.cartesian_coordinates\n",
    "      .z)\n",
    "      x_g[i]=np.array(sgi.gas.cartesian_coordinates.x)\n",
    "      y_g[i]=np.array(sgi.gas.cartesian_coordinates.y)\n",
    "      z_g[i]=np.array(sgi.gas.cartesian_coordinates.z)"
   ]
  },
  {
   "cell_type": "code",
   "execution_count": 17,
   "metadata": {},
   "outputs": [],
   "source": [
    "for sgi in sga:\n",
    "    analyse(sgi,i)\n",
    "    i+=1    "
   ]
  },
  {
   "cell_type": "code",
   "execution_count": 7,
   "metadata": {},
   "outputs": [],
   "source": [
    "S=[]\n",
    "for i in  range(0,len(x_dm)):\n",
    "      x_dmc=np.sum(x_dm[i])/len(x_dm[i])\n",
    "      x_gc=np.sum(x_g[i])/len(x_g[i])\n",
    "      x_dm[i]-=x_dmc\n",
    "      x_g[i]-=x_gc\n",
    "      y_dmc=np.sum(y_dm[i])/len(y_dm[i])\n",
    "      y_dm[i]-=y_dmc\n",
    "      y_gc=np.sum(y_g[i])/len(y_g[i])\n",
    "      y_g[i]-=y_gc\n",
    "      z_dmc=np.sum(z_dm[i])/len(z_dm[i])\n",
    "      z_dm[i]-=z_dmc\n",
    "      z_gc=np.sum(z_g[i])/len(z_g[i]) \n",
    "      z_g[i]-=z_gc\n",
    "      S.append(dissociation(x_dm[i], y_dm[i], z_dm[i],x_g[i], y_g[i],z_g[i]))"
   ]
  },
  {
   "cell_type": "code",
   "execution_count": 9,
   "metadata": {},
   "outputs": [
    {
     "name": "stdout",
     "output_type": "stream",
     "text": [
      "[ 0.07665969  0.05377132  0.01970191  0.22320383 -0.0813214  -0.07920694\n",
      " -0.09078546 -0.03243601  0.01770792 -0.04698301  0.10242683 -0.02090254\n",
      "  0.00512745 -0.00242519 -0.09889941  0.01825866  0.06611868  0.01324776\n",
      "  0.2500724  -0.05291342 -0.000437    0.14047361  0.19332696 -0.08932368\n",
      "  0.04743861  0.10022478]\n"
     ]
    }
   ],
   "source": [
    "print(np.array(S))"
   ]
  },
  {
   "cell_type": "code",
   "execution_count": 10,
   "metadata": {},
   "outputs": [
    {
     "data": {
      "image/png": "[encoded data removed]",
      "text/plain": [
       "<Figure size 640x480 with 1 Axes>"
      ]
     },
     "metadata": {},
     "output_type": "display_data"
    }
   ],
   "source": [
    "import matplotlib.pyplot as plt\n",
    "plt.close()\n",
    "fig = plt.figure()\n",
    "ax=plt.subplot(1,1,1)\n",
    "h=ax.hist(S, bins=100)\n",
    "ax.set_xlabel(\"S\")\n",
    "ax.set_ylabel(\"Counts\")\n",
    "ax.set_title(\"M>10^11\")\n",
    "fig.savefig(\"./S.png\")"
   ]
  },
  {
   "cell_type": "code",
   "execution_count": 21,
   "metadata": {},
   "outputs": [
    {
     "name": "stdout",
     "output_type": "stream",
     "text": [
      "[67.3193834   5.1492169   9.00515149 14.10555223 26.7872291   9.24594494\n",
      " 10.87225872  4.17580657  1.87050596  3.3536526   1.470555   51.20067791\n",
      " 10.18070814  4.12850707 10.6029429   3.41681775  3.44705633  9.1624006\n",
      " 12.06020749  8.87844501  9.98865965 15.0445685   7.61822418  2.93758589\n",
      " 18.23115434 53.71565694]\n"
     ]
    }
   ],
   "source": [
    "Offset=[]\n",
    "for i in  range(0,len(x_dm)):\n",
    "      x_dmc=np.sum(x_dm[i])/len(x_dm[i])\n",
    "      x_gc=np.sum(x_g[i])/len(x_g[i])\n",
    "      y_dmc=np.sum(y_dm[i])/len(y_dm[i]) \n",
    "      y_gc=np.sum(y_g[i])/len(y_g[i])\n",
    "      z_dmc=np.sum(z_dm[i])/len(z_dm[i])\n",
    "      z_gc=np.sum(z_g[i])/len(z_g[i]) \n",
    "      Offset.append(radial_distance(x_dmc-x_gc, y_dmc-y_gc, z_dmc-z_gc))\n",
    "print(np.array(Offset)*1000)"
   ]
  }
 ],
 "metadata": {
  "kernelspec": {
   "display_name": "mypython",
   "language": "python",
   "name": "python3"
  },
  "language_info": {
   "codemirror_mode": {
    "name": "ipython",
    "version": 3
   },
   "file_extension": ".py",
   "mimetype": "text/x-python",
   "name": "python",
   "nbconvert_exporter": "python",
   "pygments_lexer": "ipython3",
   "version": "3.12.9"
  }
 },
 "nbformat": 4,
 "nbformat_minor": 2
}
