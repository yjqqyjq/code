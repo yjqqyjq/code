{
 "cells": [
  {
   "cell_type": "code",
   "execution_count": 15,
   "metadata": {},
   "outputs": [],
   "source": [
    "import numpy as np\n",
    "import unyt\n",
    "import swiftsimio as sw\n",
    "from velociraptor import load\n",
    "import swiftgalaxy as sg\n",
    "import functions as fn\n",
    "from swiftgalaxy import SWIFTGalaxy, MaskCollection\n",
    "import h5py\n",
    "dir=\"/mnt/su3-pro/flamingo/L0200N0360/\"\n",
    "\n",
    "data_h=load(dir+\"VR/halos_0008.properties.0\")\n",
    "radius=data_h.radii.rvir\n",
    "\n",
    "is_mainhalo=data_h.centrals\n",
    "halo_id=data_h.ids.id-1\n",
    "mass=data_h.masses.mass_tot\n",
    "xc=data_h.positions.xcmbp\n",
    "yc=data_h.positions.ycmbp\n",
    "zc=data_h.positions.zcmbp\n",
    "data_h=[]\n",
    "mainhalo_id=halo_id[is_mainhalo*(mass>10000)]\n",
    "\n",
    "mainhalo_id=mainhalo_id.astype(int)\n",
    "mainhalo_id=[1,2,32]\n",
    "\n"
   ]
  },
  {
   "cell_type": "code",
   "execution_count": null,
   "metadata": {},
   "outputs": [
    {
     "name": "stdout",
     "output_type": "stream",
     "text": [
      "1\n"
     ]
    },
    {
     "name": "stderr",
     "output_type": "stream",
     "text": [
      "/home/jyang/anaconda3/envs/myenv/lib/python3.12/site-packages/swiftsimio/_array_functions.py:438: RuntimeWarning: Mixing arguments with and without cosmo_factors, continuing assuming provided cosmo_factor (a at a=1.0) for all arguments.\n",
      "  warnings.warn(\n",
      "/home/jyang/anaconda3/envs/myenv/lib/python3.12/site-packages/swiftgalaxy/reader.py:2087: RuntimeWarning: Translation assumed to be in comoving (not physical) coordinates.\n",
      "  warn(\n",
      "/home/jyang/anaconda3/envs/myenv/lib/python3.12/site-packages/swiftsimio/_array_functions.py:665: RuntimeWarning: Mixing arguments with and without cosmo_factors, continuing assuming provided cosmo_factor ((a**2.0)**0.5 at a=1.0) for all arguments.\n",
      "  warnings.warn(\n"
     ]
    },
    {
     "name": "stdout",
     "output_type": "stream",
     "text": [
      "2\n"
     ]
    },
    {
     "name": "stderr",
     "output_type": "stream",
     "text": [
      "/home/jyang/anaconda3/envs/myenv/lib/python3.12/site-packages/swiftsimio/_array_functions.py:438: RuntimeWarning: Mixing arguments with and without cosmo_factors, continuing assuming provided cosmo_factor (a at a=1.0) for all arguments.\n",
      "  warnings.warn(\n",
      "/home/jyang/anaconda3/envs/myenv/lib/python3.12/site-packages/swiftgalaxy/reader.py:2087: RuntimeWarning: Translation assumed to be in comoving (not physical) coordinates.\n",
      "  warn(\n",
      "/home/jyang/anaconda3/envs/myenv/lib/python3.12/site-packages/swiftsimio/_array_functions.py:665: RuntimeWarning: Mixing arguments with and without cosmo_factors, continuing assuming provided cosmo_factor ((a**2.0)**0.5 at a=1.0) for all arguments.\n",
      "  warnings.warn(\n"
     ]
    },
    {
     "name": "stdout",
     "output_type": "stream",
     "text": [
      "32\n"
     ]
    },
    {
     "name": "stderr",
     "output_type": "stream",
     "text": [
      "/home/jyang/anaconda3/envs/myenv/lib/python3.12/site-packages/swiftsimio/_array_functions.py:438: RuntimeWarning: Mixing arguments with and without cosmo_factors, continuing assuming provided cosmo_factor (a at a=1.0) for all arguments.\n",
      "  warnings.warn(\n",
      "/home/jyang/anaconda3/envs/myenv/lib/python3.12/site-packages/swiftgalaxy/reader.py:2087: RuntimeWarning: Translation assumed to be in comoving (not physical) coordinates.\n",
      "  warn(\n",
      "/home/jyang/anaconda3/envs/myenv/lib/python3.12/site-packages/swiftsimio/_array_functions.py:665: RuntimeWarning: Mixing arguments with and without cosmo_factors, continuing assuming provided cosmo_factor ((a**2.0)**0.5 at a=1.0) for all arguments.\n",
      "  warnings.warn(\n"
     ]
    }
   ],
   "source": [
    "#S>0.2:24.,  25.,  28.,  29.,  32., 101., 102.\n",
    "#S<0:8., 56., 75., 95., 99\n",
    "#Offset<0.01:11., 16., 34., 50\n",
    "#Offset>0.06:72.,  73.,  87., 105\n",
    "#CoM different>0.15: 1.,   2.,  10.,  21.,  57.,  73.,  85., 105\n",
    "\n",
    "for id in mainhalo_id:\n",
    "  print(id)\n",
    "\n",
    "  centre=np.array([xc[id],yc[id],zc[id]])*unyt.Mpc\n",
    "  r=radius[id]\n",
    " \n",
    "  sgi=sg.SWIFTGalaxy(\"/../../mnt/su3-pro/flamingo/L0200N0720/snapshots/flamingo_0008/flamingo_0008.hdf5\",\n",
    "                   sg.Standalone(centre=centre,velocity_centre=np.array([0,0,0])*\n",
    "                                 unyt.km/unyt.s,spatial_offsets=[[-r,r],[-r,r],[-r,r]],extra_mask=None))\n",
    "#  print(len(sgi.stars.spherical_coordinates.r))\n",
    "  mask=sg.MaskCollection(dark_matter=(sgi.dark_matter.spherical_coordinates.r<r),\n",
    "                       gas=(sgi.gas.spherical_coordinates.r<r)*(sgi.gas.temperatures>00000),\n",
    "                       \n",
    "                       stars=sgi.stars.spherical_coordinates.r<r)\n",
    "  #\n",
    "  sgi.mask_particles(mask)\n",
    "#  print(len(sgi.stars.spherical_coordinates.r))\n",
    "  \n",
    "#  x_dm=np.array(sgi.dark_matter.cartesian_coordinates.x)\n",
    "#  y_dm=np.array(sgi.dark_matter.cartesian_coordinates.y)\n",
    "#  z_dm=np.array(sgi.dark_matter.cartesian_coordinates.z)\n",
    "  x_g=np.array(sgi.gas.cartesian_coordinates.x)\n",
    "  y_g=np.array(sgi.gas.cartesian_coordinates.y)\n",
    "  z_g=np.array(sgi.gas.cartesian_coordinates.z)\n",
    "#  x_stars=np.array(sgi.stars.cartesian_coordinates.x)\n",
    "#  y_stars=np.array(sgi.stars.cartesian_coordinates.y)\n",
    "#  z_stars=np.array(sgi.stars.cartesian_coordinates.z)\n",
    "#  print(fn.dissociation(x_dm,y_dm,z_dm,x_g,y_g,z_g))\n",
    "#  PartType1=np.array([x_dm,y_dm,z_dm]).T\n",
    "  PartType2=np.array([x_g,y_g,z_g]).T\n",
    "#  PartType3=np.array([x_stars,y_stars,z_stars]).T\n",
    "\n",
    "\n",
    "\n",
    "  f = h5py.File('/home/jyang/data/Flamingo/L0200N0360/halo_particles/'+str(int(id))+'test.hdf5', 'w')\n",
    "#  s=f.create_group(\"PartType0\")\n",
    "#  s.create_dataset(\"Coordinates\", data=PartType3)\n",
    "#  dm = f.create_group(\"PartType2\")\n",
    "#  dm.create_dataset(\"Coordinates\", data=PartType1)\n",
    "  g= f.create_group(\"PartType1\")\n",
    "  xray=sgi.gas.xray_luminosities.erosita_high+sgi.gas.xray_luminosities.erosita_low+sgi.gas.xray_luminosities.ROSAT\n",
    "  g.create_dataset(\"Coordinates\", data=PartType2[xray==0])\n",
    "#  g.create_dataset(\"logxray\", data=np.log10(xray[xray!=0]))\n",
    "  f.create_dataset(\"Header\", data=[0,0,0,0,0,0,0,0])\n",
    "  f.attrs['comment']=\"xray_lum.units=10.697030298874*Mpc**2*Msun/Gyr**3\"\n",
    "  f.attrs['comment']=\"densities.units=10000000000.0*Msun/Mpc**3\"\n",
    "  f.attrs['comment']=\"temperatures.units=K\"\n",
    "#  f.attrs['comment']=\"PartType0 is stars\"\n",
    "  f.close()\n"
   ]
  },
  {
   "cell_type": "code",
   "execution_count": null,
   "metadata": {},
   "outputs": [],
   "source": [
    "f = h5py.File('/home/jyang/data/Flamingo/L0200N0360/halo_particles/749.hdf5', 'w')\n",
    "dm = f.create_group(\"PartType2\")\n",
    "dm.create_dataset(\"Coordinates\", data=PartType1)\n",
    "g= f.create_group(\"PartType1\")\n",
    "g.create_dataset(\"Coordinates\", data=PartType2)\n",
    "g.create_dataset(\"xray\", data=PartType2)\n",
    "f.create_dataset(\"Header\", data=[0,0,0,0,0,0,0,0])\n",
    "f.close()"
   ]
  }
 ],
 "metadata": {
  "kernelspec": {
   "display_name": "myenv",
   "language": "python",
   "name": "python3"
  },
  "language_info": {
   "codemirror_mode": {
    "name": "ipython",
    "version": 3
   },
   "file_extension": ".py",
   "mimetype": "text/x-python",
   "name": "python",
   "nbconvert_exporter": "python",
   "pygments_lexer": "ipython3",
   "version": "3.12.9"
  }
 },
 "nbformat": 4,
 "nbformat_minor": 2
}
