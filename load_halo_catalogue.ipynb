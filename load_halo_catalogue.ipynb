{
 "cells": [
  {
   "cell_type": "code",
   "execution_count": 22,
   "id": "647bdcaa",
   "metadata": {},
   "outputs": [
    {
     "name": "stderr",
     "output_type": "stream",
     "text": [
      "/home/jyang/anaconda3/envs/myenv/lib/python3.12/site-packages/swiftsimio/_array_functions.py:665: RuntimeWarning: Mixing arguments with and without cosmo_factors, continuing assuming provided cosmo_factor (a**0.0 at a=1.0) for all arguments.\n",
      "  warnings.warn(\n"
     ]
    },
    {
     "name": "stdout",
     "output_type": "stream",
     "text": [
      "85540\n"
     ]
    }
   ],
   "source": [
    "import swiftsimio as sw\n",
    "import numpy as np\n",
    "import h5py\n",
    "\n",
    "dir=\"../../../mnt/su3ctm/ludlow/Flamingo/L1000N1800/HYDRO_FIDUCIAL_HiResDM/SOAP-HBT/halo_properties_0077.hdf5\"\n",
    "#dir=\"../../../mnt/su3-pro/colibre/L0200N1504/THERMAL_AGN/SOAP/halo_properties_0127.hdf5\"\n",
    "#find all th ewell resolved halo and save them\n",
    "#Msub>10^13/10^12 for in/low res\n",
    "data_h=sw.load(dir)\n",
    "\n",
    "host_id=data_h.soap.host_halo_index#central halo=-1\\\n",
    "halo_id=np.arange(0,len(host_id),1)\n",
    "mass=np.array(data_h.bound_subhalo.total_mass)\n",
    "star_lumz=np.array(data_h.exclusive_sphere_100kpc.stellar_luminosity[:,4])\n",
    "mask=(mass>10000)*(host_id==-1)\n",
    "main_id=halo_id[mask]\n",
    "mask=mask+np.isin(host_id,main_id)*(mass>100)\n",
    "halo_id=halo_id[mask]\n",
    "host_id=host_id[mask]\n",
    "mass=mass[mask]\n",
    "star_lumz=star_lumz[mask]\n",
    "radius=np.array(data_h.bound_subhalo.enclose_radius)[mask]\n",
    "#com_star=np.array(data_h.exclusive_sphere_100kpc.stellar_centre_of_mass)[mask]\n",
    "#com_star=np.array(data_h.exclusive_sphere_30kpc.stellar_centre_of_mass)[mask]\n",
    "mbp=np.array(data_h.input_halos.halo_centre)[mask]\n",
    "mass_star_100kpc= np.array(data_h.exclusive_sphere_100kpc.stellar_mass)[mask]\n",
    "star_age=np.array(data_h.exclusive_sphere_100kpc.mass_weighted_mean_stellar_age)[mask]\n",
    "print(len(mbp))\n",
    "\n",
    "#com_star=np.array(d\n",
    "# ata_h.exclusive_sphere_30kpc.stellar_centre_of_mass[(host_id==-1)*(mass>10000)])\n",
    "path=\"/home/jyang/data/Flamingo/L1000N1800/\"\n",
    "f=h5py.File(path+'halos.hdf5','a')\n",
    "s=f['halos']\n",
    "#del f['halos']['mass_star_100kpc']\n",
    "#del f['halos']['star_age_100kpc']\n",
    "s.create_dataset(\"mass_star_100kpc\", data=mass_star_100kpc)\n",
    "s.create_dataset(\"star_age_100kpc\", data=star_age)\n",
    "#s.create_dataset(\"com_star_30kpc\", data=com_star)\n",
    "'''\n",
    "s=f.create_group(\"halos\")\n",
    "s.create_dataset(\"hostid\", data=host_id)\n",
    "s.create_dataset(\"id\", data=halo_id)\n",
    "s.create_dataset(\"radius\", data=radius)\n",
    "#s.create_dataset(\"com_star_100kpc\", data=com_star)\n",
    "s.create_dataset(\"center\", data=mbp)\n",
    "s.create_dataset(\"mass\", data=mass)\n",
    "s.create_dataset(\"lumz_100kpc\", data=star_lumz)\n",
    "'''\n",
    "f.close()\n"
   ]
  }
 ],
 "metadata": {
  "kernelspec": {
   "display_name": "myenv",
   "language": "python",
   "name": "python3"
  },
  "language_info": {
   "codemirror_mode": {
    "name": "ipython",
    "version": 3
   },
   "file_extension": ".py",
   "mimetype": "text/x-python",
   "name": "python",
   "nbconvert_exporter": "python",
   "pygments_lexer": "ipython3",
   "version": "3.12.9"
  }
 },
 "nbformat": 4,
 "nbformat_minor": 5
}
